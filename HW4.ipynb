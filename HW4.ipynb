{
  "nbformat": 4,
  "nbformat_minor": 0,
  "metadata": {
    "colab": {
      "name": "HW4.ipynb",
      "provenance": [],
      "collapsed_sections": [],
      "authorship_tag": "ABX9TyPMWFJU6zssqdBL40UEVglk",
      "include_colab_link": true
    },
    "kernelspec": {
      "name": "python3",
      "display_name": "Python 3"
    }
  },
  "cells": [
    {
      "cell_type": "markdown",
      "metadata": {
        "id": "view-in-github",
        "colab_type": "text"
      },
      "source": [
        "<a href=\"https://colab.research.google.com/github/VivianVKJ/WebDev/blob/master/HW4.ipynb\" target=\"_parent\"><img src=\"https://colab.research.google.com/assets/colab-badge.svg\" alt=\"Open In Colab\"/></a>"
      ]
    },
    {
      "cell_type": "markdown",
      "metadata": {
        "id": "uRxp3ooh9esS",
        "colab_type": "text"
      },
      "source": [
        "##2.\n",
        "\n",
        "a.Generate two clusters of data points."
      ]
    },
    {
      "cell_type": "code",
      "metadata": {
        "id": "smNXVWz88CJ5",
        "colab_type": "code",
        "outputId": "86469b5e-9a23-47c8-ab88-46f3365cf05f",
        "colab": {
          "base_uri": "https://localhost:8080/",
          "height": 296
        }
      },
      "source": [
        "%matplotlib inline\n",
        "import matplotlib\n",
        "import pandas as pd\n",
        "import numpy as np\n",
        "import matplotlib.pyplot as plt\n",
        "from sklearn import preprocessing\n",
        "kwargs = {'linewidth' : 3.5} \n",
        "\n",
        "var = 0.25\n",
        "X1 =np.array([np.random.normal(0.5,var,(100)), np.random.normal(0.5,var,(100))])\n",
        "X2 =np.array([np.random.normal(-0.5,var,(100)), np.random.normal(-0.5,var,(100))])\n",
        "\n",
        "y1 = [1]*100\n",
        "y2 = [-1]*100\n",
        "X = np.concatenate((X1,X2),axis=1).T\n",
        "y = np.concatenate((y1,y2),axis=0)\n",
        "X = X - np.mean(X,axis=0)\n",
        "print(X.shape , y.shape)\n",
        "\n",
        "plt.plot(X1[0].T,X1[1].T,'.')\n",
        "plt.plot(X2[0].T,X2[1].T,'.')\n",
        "plt.xlabel('x')\n",
        "plt.ylabel('y')\n",
        "\n",
        "from sklearn.model_selection import train_test_split\n",
        "X_train, X_test, y_train, y_test = train_test_split(X, y, test_size=0.20, random_state=42)"
      ],
      "execution_count": 0,
      "outputs": [
        {
          "output_type": "stream",
          "text": [
            "(200, 2) (200,)\n"
          ],
          "name": "stdout"
        },
        {
          "output_type": "display_data",
          "data": {
            "image/png": "[encoded data removed]",
            "text/plain": [
              "<Figure size 432x288 with 1 Axes>"
            ]
          },
          "metadata": {
            "tags": []
          }
        }
      ]
    },
    {
      "cell_type": "code",
      "metadata": {
        "id": "T1BtSgkYUUz9",
        "colab_type": "code",
        "outputId": "b3b46937-1a4a-40a8-f1cd-8376799a84ec",
        "colab": {
          "base_uri": "https://localhost:8080/",
          "height": 102
        }
      },
      "source": [
        "W = np.zeros((2,1))\n",
        "lr = 1\n",
        "\n",
        "for epoch in range(100):\n",
        "  for idx in range(len(X_train)):\n",
        "    if y_train[idx] * X_train[idx,:].reshape(1,-1) @W <= 0 :\n",
        "      W = W + lr * y_train[idx] * X_train[idx, :].reshape(-1,1)\n",
        "  if epoch % 20 == 0:\n",
        "    y_test_pred = (X_test@W).reshape(-1)\n",
        "    y_test_pred[y_test_pred < 0] = -1\n",
        "    y_test_pred[y_test_pred >= 0] = 1\n",
        "    \n",
        "    acc = np.mean(y_test == y_test_pred)\n",
        "    print(f\"Epoch: {epoch}, Test Accuacy: {acc}\")"
      ],
      "execution_count": 64,
      "outputs": [
        {
          "output_type": "stream",
          "text": [
            "Epoch: 0, Test Accuacy: 0.95\n",
            "Epoch: 20, Test Accuacy: 0.9\n",
            "Epoch: 40, Test Accuacy: 0.875\n",
            "Epoch: 60, Test Accuacy: 0.95\n",
            "Epoch: 80, Test Accuacy: 0.95\n"
          ],
          "name": "stdout"
        }
      ]
    },
    {
      "cell_type": "markdown",
      "metadata": {
        "id": "dJqEOG4byF12",
        "colab_type": "text"
      },
      "source": [
        "c. overlap"
      ]
    },
    {
      "cell_type": "code",
      "metadata": {
        "id": "ZfuGS3FCJY9v",
        "colab_type": "code",
        "outputId": "85c3c960-d82f-4645-dcff-683080438a40",
        "colab": {
          "base_uri": "https://localhost:8080/",
          "height": 313
        }
      },
      "source": [
        "var = 0.5\n",
        "X1 =np.array([np.random.normal(0.5,var,(100)), np.random.normal(0.5,var,(100))])\n",
        "X2 =np.array([np.random.normal(-0.5,var,(100)), np.random.normal(-0.5,var,(100))])\n",
        "\n",
        "y1 = [1]*100\n",
        "y2 = [-1]*100\n",
        "X = np.concatenate((X1,X2),axis=1).T\n",
        "y = np.concatenate((y1,y2),axis=0)\n",
        "X = X - np.mean(X,axis=0)\n",
        "print(X.shape , y.shape)\n",
        "\n",
        "plt.plot(X1[0].T,X1[1].T,'.')\n",
        "plt.plot(X2[0].T,X2[1].T,'.')\n",
        "plt.xlabel('x')\n",
        "plt.ylabel('y')"
      ],
      "execution_count": 73,
      "outputs": [
        {
          "output_type": "stream",
          "text": [
            "(200, 2) (200,)\n"
          ],
          "name": "stdout"
        },
        {
          "output_type": "execute_result",
          "data": {
            "text/plain": [
              "Text(0, 0.5, 'y')"
            ]
          },
          "metadata": {
            "tags": []
          },
          "execution_count": 73
        },
        {
          "output_type": "display_data",
          "data": {
            "image/png": "[encoded data removed]",
            "text/plain": [
              "<Figure size 432x288 with 1 Axes>"
            ]
          },
          "metadata": {
            "tags": []
          }
        }
      ]
    },
    {
      "cell_type": "code",
      "metadata": {
        "id": "s7N_zy6M9Ag8",
        "colab_type": "code",
        "colab": {
          "base_uri": "https://localhost:8080/",
          "height": 102
        },
        "outputId": "e0bd5a6c-2840-46d5-eb94-0210795f7353"
      },
      "source": [
        "from sklearn.model_selection import train_test_split\n",
        "X_train, X_test, y_train, y_test = train_test_split(X, y, test_size=0.20, random_state=42)\n",
        "\n",
        "\n",
        "W = np.zeros((2,1))\n",
        "lr = 1\n",
        "for epoch in range(250):\n",
        "  for idx in range(len(X_train)):\n",
        "    if y_train[idx] * X_train[idx,:].reshape(1,-1) @W <= 0 :\n",
        "      W = W + lr * y_train[idx] * X_train[idx, :].reshape(-1,1)\n",
        "  if epoch % 50 == 0:\n",
        "    y_test_pred = (X_test@W).reshape(-1)\n",
        "    y_test_pred[y_test_pred < 0] = -1\n",
        "    y_test_pred[y_test_pred >= 0] = 1\n",
        "    \n",
        "    acc = np.mean(y_test == y_test_pred)\n",
        "    print(f\"Epoch: {epoch}, Test Accuacy: {acc}\")"
      ],
      "execution_count": 80,
      "outputs": [
        {
          "output_type": "stream",
          "text": [
            "Epoch: 0, Test Accuacy: 0.9\n",
            "Epoch: 50, Test Accuacy: 0.65\n",
            "Epoch: 100, Test Accuacy: 0.9\n",
            "Epoch: 150, Test Accuacy: 0.8\n",
            "Epoch: 200, Test Accuacy: 0.85\n"
          ],
          "name": "stdout"
        }
      ]
    },
    {
      "cell_type": "markdown",
      "metadata": {
        "id": "hQ6ey7rA8kak",
        "colab_type": "text"
      },
      "source": [
        "It dosen't converge.\n",
        "\n",
        "Show the classification regions:"
      ]
    },
    {
      "cell_type": "code",
      "metadata": {
        "id": "r4tqL3dLxlqi",
        "colab_type": "code",
        "outputId": "d12a09b4-def9-42ba-d901-f75dd4c2779a",
        "colab": {
          "base_uri": "https://localhost:8080/",
          "height": 265
        }
      },
      "source": [
        "from matplotlib import pyplot as plt\n",
        "from matplotlib.colors import ListedColormap\n",
        "cmap_bold = ListedColormap(['darkorange', 'c'])\n",
        "h = 0.1\n",
        "cmap_light = ListedColormap(['orange', 'cyan'])\n",
        "cmap_bold = ListedColormap(['darkorange', 'c'])\n",
        "\n",
        "x_min, x_max = X_test[:, 0].min() - 1, X_test[:, 0].max() + 1 \n",
        "y_min, y_max = X_test[:, 1].min() - 1, X_test[:, 1].max() + 1 \n",
        "xx, yy = np.meshgrid(np.arange(x_min, x_max, h), \n",
        "                     np.arange(y_min, y_max, h))\n",
        "Z = np.c_[xx.ravel(), yy.ravel()] \n",
        "Z = Z@W\n",
        "Z[Z<0] = -1\n",
        "Z[Z>=0] = 1\n",
        "\n",
        "# Put the result into a color plot\n",
        "Z = Z.reshape(xx.shape) \n",
        "\n",
        "plt.figure()\n",
        "plt.pcolormesh(xx, yy, Z, cmap=cmap_light)\n",
        "\n",
        "# Plot also the training points\n",
        "plt.scatter(X[:, 0], X[:, 1], c=y, cmap=cmap_bold, edgecolor='k', s=100)\n",
        "plt.xlim(xx.min(), xx.max())\n",
        "plt.ylim(yy.min(), yy.max())\n",
        "plt.show()"
      ],
      "execution_count": 81,
      "outputs": [
        {
          "output_type": "display_data",
          "data": {
            "image/png": "[encoded data removed]",
            "text/plain": [
              "<Figure size 432x288 with 1 Axes>"
            ]
          },
          "metadata": {
            "tags": []
          }
        }
      ]
    },
    {
      "cell_type": "markdown",
      "metadata": {
        "id": "o9wi-XuWyQIV",
        "colab_type": "text"
      },
      "source": [
        "##4.\n",
        "\n",
        "a. load the dataset and display 10 representative images from each class."
      ]
    },
    {
      "cell_type": "code",
      "metadata": {
        "id": "AI9dptRYySvi",
        "colab_type": "code",
        "outputId": "74bc1bdd-4a68-4c86-b061-17b689985bdc",
        "colab": {
          "base_uri": "https://localhost:8080/",
          "height": 51
        }
      },
      "source": [
        "import tensorflow as tf\n",
        "from tensorflow import keras\n",
        "fashion_mnist = keras.datasets.fashion_mnist \n",
        "(train_images, train_labels),(test_images, test_labels) = fashion_mnist.load_data()\n",
        "\n",
        "train_images = train_images.reshape(train_images.shape[0],train_images.shape[1]*train_images.shape[2])\n",
        "test_images = test_images.reshape(test_images.shape[0],test_images.shape[1]*test_images.shape[2])\n",
        "\n",
        "print(train_images.shape, train_labels.shape)\n",
        "print(test_images.shape, test_labels.shape)"
      ],
      "execution_count": 0,
      "outputs": [
        {
          "output_type": "stream",
          "text": [
            "(60000, 784) (60000,)\n",
            "(10000, 784) (10000,)\n"
          ],
          "name": "stdout"
        }
      ]
    },
    {
      "cell_type": "code",
      "metadata": {
        "id": "2CqwVPUWBbOl",
        "colab_type": "code",
        "outputId": "d5872271-b1c5-4b25-fa10-4670f932f5df",
        "colab": {
          "base_uri": "https://localhost:8080/",
          "height": 277
        }
      },
      "source": [
        "plot_images = []\n",
        "count = 0\n",
        "\n",
        "for index,(image, label) in enumerate(zip(train_images,train_labels)):\n",
        "  if label == count:\n",
        "    plot_images.append(image)\n",
        "    count+=1\n",
        "    if count==10:\n",
        "      break\n",
        "plot = np.array(plot_images)\n",
        "\n",
        "plt.figure(figsize = (10,4))\n",
        "for index in range(10):\n",
        "  plt.subplot(2,5,index+1)\n",
        "  plt.imshow(np.reshape(plot[index],(28,28)), cmap=plt.cm.gray)\n",
        "  plt.title('%i' % index, fontsize = 10)\n"
      ],
      "execution_count": 0,
      "outputs": [
        {
          "output_type": "display_data",
          "data": {
            "image/png": "[encoded data removed]",
            "text/plain": [
              "<Figure size 720x288 with 10 Axes>"
            ]
          },
          "metadata": {
            "tags": []
          }
        }
      ]
    },
    {
      "cell_type": "markdown",
      "metadata": {
        "id": "9ZmltmwaCUJn",
        "colab_type": "text"
      },
      "source": [
        "b. implement K-NN, Loistic regression, SVM(linear and rbf kernels)"
      ]
    },
    {
      "cell_type": "code",
      "metadata": {
        "id": "E57HdSskJD6I",
        "colab_type": "code",
        "outputId": "1834a7f9-6a42-4f89-c185-efd4299ab575",
        "colab": {
          "base_uri": "https://localhost:8080/",
          "height": 51
        }
      },
      "source": [
        "from sklearn.preprocessing import StandardScaler\n",
        "\n",
        "scaler = StandardScaler()\n",
        "train_images = scaler.fit_transform(train_images)\n",
        "test_images = scaler.fit_transform(test_images)\n",
        "ntr = 5000\n",
        "nts = 1000\n",
        "Iperm = np.random.permutation(ntr)\n",
        "train_images = train_images[Iperm[:ntr]]\n",
        "train_labels = train_labels[Iperm[:ntr]]\n",
        "test_images = test_images[Iperm[:nts]]\n",
        "test_labels = test_labels[Iperm[:nts]]\n",
        "\n",
        "print(train_images.shape, train_labels.shape) \n",
        "print(test_images.shape, test_labels.shape)"
      ],
      "execution_count": 0,
      "outputs": [
        {
          "output_type": "stream",
          "text": [
            "(5000, 784) (5000,)\n",
            "(1000, 784) (1000,)\n"
          ],
          "name": "stdout"
        }
      ]
    },
    {
      "cell_type": "markdown",
      "metadata": {
        "id": "PMB_xeFW9flF",
        "colab_type": "text"
      },
      "source": [
        "KNN"
      ]
    },
    {
      "cell_type": "code",
      "metadata": {
        "id": "bN0lokmsOmhb",
        "colab_type": "code",
        "outputId": "4ce4888d-8639-4d47-dc27-9d5f666bf67a",
        "colab": {
          "base_uri": "https://localhost:8080/",
          "height": 68
        }
      },
      "source": [
        "from sklearn.neighbors import KNeighborsClassifier\n",
        "knn = KNeighborsClassifier()\n",
        "%time knn.fit(train_images,train_labels)\n",
        "knn_score = knn.score(test_images,test_labels)\n",
        "print(knn_score)"
      ],
      "execution_count": 0,
      "outputs": [
        {
          "output_type": "stream",
          "text": [
            "CPU times: user 549 ms, sys: 2.96 ms, total: 552 ms\n",
            "Wall time: 559 ms\n",
            "0.809\n"
          ],
          "name": "stdout"
        }
      ]
    },
    {
      "cell_type": "markdown",
      "metadata": {
        "id": "OyewOHhIT5Ti",
        "colab_type": "text"
      },
      "source": [
        "Logistic Regression"
      ]
    },
    {
      "cell_type": "code",
      "metadata": {
        "id": "1jmeRrgSKxS8",
        "colab_type": "code",
        "outputId": "d2699ac7-ea62-49b0-e8c1-6bd020c7ecda",
        "colab": {
          "base_uri": "https://localhost:8080/",
          "height": 68
        }
      },
      "source": [
        "from sklearn.linear_model import LogisticRegression\n",
        "logisticReg = LogisticRegression(penalty='l2', tol=0.1, solver = 'saga', C=1)\n",
        "%time logisticReg.fit(train_images, train_labels)\n",
        "lr_score = logisticReg.score(test_images, test_labels)\n",
        "print(score)"
      ],
      "execution_count": 0,
      "outputs": [
        {
          "output_type": "stream",
          "text": [
            "CPU times: user 1.12 s, sys: 1.99 ms, total: 1.12 s\n",
            "Wall time: 1.13 s\n",
            "0.769\n"
          ],
          "name": "stdout"
        }
      ]
    },
    {
      "cell_type": "markdown",
      "metadata": {
        "id": "OJ-xzftdNCCV",
        "colab_type": "text"
      },
      "source": [
        "SVM"
      ]
    },
    {
      "cell_type": "code",
      "metadata": {
        "id": "SPGNvwfiNocO",
        "colab_type": "code",
        "outputId": "a9fb716a-7ffb-443f-cf72-f30eec41f22c",
        "colab": {
          "base_uri": "https://localhost:8080/",
          "height": 119
        }
      },
      "source": [
        "from sklearn import svm\n",
        "svc = svm.SVC(kernel='linear', C = 1)\n",
        "%time svc.fit(train_images,train_labels)\n",
        "svml_score = svc.score(test_images,test_labels)\n",
        "print(svml_score)"
      ],
      "execution_count": 0,
      "outputs": [
        {
          "output_type": "stream",
          "text": [
            "CPU times: user 8.37 s, sys: 44.2 ms, total: 8.41 s\n",
            "Wall time: 8.4 s\n"
          ],
          "name": "stdout"
        },
        {
          "output_type": "execute_result",
          "data": {
            "text/plain": [
              "SVC(C=1, break_ties=False, cache_size=200, class_weight=None, coef0=0.0,\n",
              "    decision_function_shape='ovr', degree=3, gamma='scale', kernel='linear',\n",
              "    max_iter=-1, probability=False, random_state=None, shrinking=True,\n",
              "    tol=0.001, verbose=False)"
            ]
          },
          "metadata": {
            "tags": []
          },
          "execution_count": 10
        }
      ]
    },
    {
      "cell_type": "code",
      "metadata": {
        "id": "fNY3U5xXOY8k",
        "colab_type": "code",
        "outputId": "ae7d22b4-83b9-4552-c5d8-b7c389c01e9f",
        "colab": {
          "base_uri": "https://localhost:8080/",
          "height": 68
        }
      },
      "source": [
        "from sklearn import svm\n",
        "svc_rbf = svm.SVC(kernel='rbf', C = 1)\n",
        "%time svc_rbf.fit(train_images,train_labels)\n",
        "svmrbf_score = svc_rbf.score(test_images,test_labels)\n",
        "print(svmrbf_score)"
      ],
      "execution_count": 0,
      "outputs": [
        {
          "output_type": "stream",
          "text": [
            "CPU times: user 14.3 s, sys: 7.78 ms, total: 14.3 s\n",
            "Wall time: 14.3 s\n",
            "0.853\n"
          ],
          "name": "stdout"
        }
      ]
    },
    {
      "cell_type": "markdown",
      "metadata": {
        "id": "SvRXD2ojT8ZM",
        "colab_type": "text"
      },
      "source": [
        "c. Hyperparameters\n",
        "\n",
        "1) KNN"
      ]
    },
    {
      "cell_type": "code",
      "metadata": {
        "id": "ebqi034NUACp",
        "colab_type": "code",
        "outputId": "ba707742-35b9-4ae3-c717-d17f63fb8577",
        "colab": {
          "base_uri": "https://localhost:8080/",
          "height": 102
        }
      },
      "source": [
        "from sklearn.neighbors import KNeighborsClassifier\n",
        "knn = KNeighborsClassifier(n_neighbors=10, weights='distance',p=1)\n",
        "%time knn.fit(train_images,train_labels)\n",
        "%time knn_score = knn.score(test_images,test_labels)\n",
        "print(knn_score)"
      ],
      "execution_count": 60,
      "outputs": [
        {
          "output_type": "stream",
          "text": [
            "CPU times: user 390 ms, sys: 993 µs, total: 391 ms\n",
            "Wall time: 401 ms\n",
            "CPU times: user 8.96 s, sys: 2.97 ms, total: 8.97 s\n",
            "Wall time: 8.99 s\n",
            "0.814\n"
          ],
          "name": "stdout"
        }
      ]
    },
    {
      "cell_type": "markdown",
      "metadata": {
        "id": "X8fFxUh-fmN5",
        "colab_type": "text"
      },
      "source": [
        "2) logestic regression"
      ]
    },
    {
      "cell_type": "code",
      "metadata": {
        "id": "SY2UhZu8flap",
        "colab_type": "code",
        "outputId": "c38fefa7-8303-4252-b128-2d1bca0af0ea",
        "colab": {
          "base_uri": "https://localhost:8080/",
          "height": 102
        }
      },
      "source": [
        "logisticReg = LogisticRegression(penalty='l2', tol=0.1, solver = 'sag', C=0.001)\n",
        "%time logisticReg.fit(train_images, train_labels)\n",
        "%time lr_score = logisticReg.score(test_images, test_labels)\n",
        "print(score)"
      ],
      "execution_count": 61,
      "outputs": [
        {
          "output_type": "stream",
          "text": [
            "CPU times: user 1.02 s, sys: 1.94 ms, total: 1.03 s\n",
            "Wall time: 1.03 s\n",
            "CPU times: user 5.73 ms, sys: 9 µs, total: 5.74 ms\n",
            "Wall time: 3.36 ms\n",
            "0.769\n"
          ],
          "name": "stdout"
        }
      ]
    },
    {
      "cell_type": "markdown",
      "metadata": {
        "id": "i_sDduQIjUni",
        "colab_type": "text"
      },
      "source": [
        "3) SVM"
      ]
    },
    {
      "cell_type": "code",
      "metadata": {
        "id": "RbmoJv08jWpr",
        "colab_type": "code",
        "outputId": "16ea8559-63c9-4ff2-cecd-4f3f7ce7610f",
        "colab": {
          "base_uri": "https://localhost:8080/",
          "height": 102
        }
      },
      "source": [
        "from sklearn import svm\n",
        "svc = svm.SVC(kernel='linear', C = 3)\n",
        "%time svc.fit(train_images,train_labels)\n",
        "%time svml_score = svc.score(test_images,test_labels)\n",
        "print(svml_score)\n"
      ],
      "execution_count": 62,
      "outputs": [
        {
          "output_type": "stream",
          "text": [
            "CPU times: user 6.99 s, sys: 85.8 ms, total: 7.07 s\n",
            "Wall time: 7 s\n",
            "CPU times: user 2.38 s, sys: 1 ms, total: 2.38 s\n",
            "Wall time: 2.39 s\n",
            "0.812\n"
          ],
          "name": "stdout"
        }
      ]
    },
    {
      "cell_type": "code",
      "metadata": {
        "id": "H27kfoydod2x",
        "colab_type": "code",
        "outputId": "21fed778-c554-4b2c-bd79-9ef0cfbd3f20",
        "colab": {
          "base_uri": "https://localhost:8080/",
          "height": 102
        }
      },
      "source": [
        "svc_rbf = svm.SVC(kernel='rbf',degree =8, gamma = 'auto', C = 3)\n",
        "%time svc_rbf.fit(train_images,train_labels)\n",
        "%time svmrbf_score = svc_rbf.score(test_images,test_labels)\n",
        "print(svmrbf_score)"
      ],
      "execution_count": 63,
      "outputs": [
        {
          "output_type": "stream",
          "text": [
            "CPU times: user 11.5 s, sys: 999 µs, total: 11.5 s\n",
            "Wall time: 11.5 s\n",
            "CPU times: user 3.31 s, sys: 1.99 ms, total: 3.31 s\n",
            "Wall time: 3.32 s\n",
            "0.859\n"
          ],
          "name": "stdout"
        }
      ]
    },
    {
      "cell_type": "markdown",
      "metadata": {
        "id": "yfIpQKVpx63H",
        "colab_type": "text"
      },
      "source": [
        "\n",
        "|  Time| Accuracy |Train Time | Test Time |\n",
        "| :----- | :-----: | :---:|:---:|\n",
        "| KNN | 81.4%  | 0.391| 8.97 |\n",
        "| LR  | 76.8% |1.03  |0.0057|\n",
        "| SVM(linear)|81.2%|7.07|2.38|\n",
        "|SVM(rbf))|85.9%|11.5|3.31|\n",
        "\n",
        "<br>\n",
        "\n",
        "From the table above, SVM with linear kernel use the least time of all methods, while in the meantime has the lowest accuracy. The more accurate other methods can get, the more time they cost. SVM with rbf kernel has the best accuracy and it's slowest."
      ]
    }
  ]
}
